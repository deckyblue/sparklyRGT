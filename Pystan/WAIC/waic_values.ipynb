{
 "cells": [
  {
   "cell_type": "code",
   "execution_count": 1,
   "metadata": {},
   "outputs": [],
   "source": [
    "import numpy as np\n",
    "import os \n",
    "import arviz as az\n",
    "import pandas as pd\n",
    "import math\n",
    "import xarray as xr\n",
    "os.chdir(\"..\")\n",
    "import model_data as md\n",
    "import waic as wc"
   ]
  },
  {
   "cell_type": "code",
   "execution_count": 2,
   "metadata": {},
   "outputs": [],
   "source": [
    "os.chdir('nc_files')"
   ]
  },
  {
   "cell_type": "code",
   "execution_count": 7,
   "metadata": {},
   "outputs": [
    {
     "ename": "FileNotFoundError",
     "evalue": "[Errno 2] No such file or directory: 'sparklyRGT/Pystan'",
     "output_type": "error",
     "traceback": [
      "\u001b[0;31m---------------------------------------------------------------------------\u001b[0m",
      "\u001b[0;31mFileNotFoundError\u001b[0m                         Traceback (most recent call last)",
      "\u001b[0;32m<ipython-input-7-2693e376c85d>\u001b[0m in \u001b[0;36m<module>\u001b[0;34m\u001b[0m\n\u001b[0;32m----> 1\u001b[0;31m \u001b[0mos\u001b[0m\u001b[0;34m.\u001b[0m\u001b[0mchdir\u001b[0m\u001b[0;34m(\u001b[0m\u001b[0;34m\"sparklyRGT/Pystan\"\u001b[0m\u001b[0;34m)\u001b[0m\u001b[0;34m\u001b[0m\u001b[0;34m\u001b[0m\u001b[0m\n\u001b[0m",
      "\u001b[0;31mFileNotFoundError\u001b[0m: [Errno 2] No such file or directory: 'sparklyRGT/Pystan'"
     ]
    }
   ],
   "source": [
    "# os.chdir(\"sparklyRGT/Pystan\")"
   ]
  },
  {
   "cell_type": "code",
   "execution_count": 3,
   "metadata": {},
   "outputs": [],
   "source": [
    "loss_basic_fit = az.from_netcdf('loss_basic_fit.nc')\n",
    "outcome_basic_fit = az.from_netcdf('outcome_basic_fit.nc')\n",
    "random_basic_fit = az.from_netcdf('random_basic_fit.nc')\n",
    "reverse_basic_fit = az.from_netcdf('reverse_basic_fit.nc')\n",
    "standard_basic_fit = az.from_netcdf('standard_basic_fit.nc')\n",
    "uncued_basic_fit = az.from_netcdf('uncued_basic_fit.nc')\n",
    "\n",
    "loss_basicstar_fit = az.from_netcdf('loss_basic-star_fit.nc')\n",
    "outcome_basicstar_fit = az.from_netcdf('outcome_basic-star_fit.nc')\n",
    "random_basicstar_fit = az.from_netcdf('random_basic-star_fit.nc')\n",
    "reverse_basicstar_fit = az.from_netcdf('reverse_basic-star_fit.nc')\n",
    "standard_basicstar_fit = az.from_netcdf('standard_basic-star_fit.nc')\n",
    "uncued_basicstar_fit = az.from_netcdf('uncued_basic-star_fit.nc')\n",
    "\n",
    "loss_pscale_fit = az.from_netcdf('loss_pscale_fit.nc')\n",
    "outcome_pscale_fit = az.from_netcdf('outcome_pscale_fit.nc')\n",
    "random_pscale_fit = az.from_netcdf('random_pscale_fit.nc')\n",
    "# reverse_pscale_fit = az.from_netcdf('reverse_pscale_fit.nc')\n",
    "standard_pscale_fit = az.from_netcdf('standard_pscale_fit.nc')\n",
    "uncued_pscale_fit = az.from_netcdf('uncued_pscale_fit.nc')\n",
    "\n",
    "loss_pscalestar_fit = az.from_netcdf('loss_pscale-star_fit.nc')\n",
    "outcome_pscalestar_fit = az.from_netcdf('outcome_pscale-star_fit.nc')\n",
    "random_pscalestar_fit = az.from_netcdf('random_pscale-star_fit.nc')\n",
    "reverse_pscalestar_fit = az.from_netcdf('reverse_pscale-star_fit.nc')\n",
    "standard_pscalestar_fit = az.from_netcdf('standard_pscale-star_fit.nc')\n",
    "uncued_pscalestar_fit = az.from_netcdf('uncued_pscale-star_fit.nc')"
   ]
  },
  {
   "cell_type": "code",
   "execution_count": 4,
   "metadata": {},
   "outputs": [],
   "source": [
    "os.chdir(\"..\") \n",
    "fnames = ['BH09_raw-free_S1-5_corrected.xlsx','CH02_corrected.xlsx','NA01_raw_free-choice_S8-18.xlsx',\"CH01_corrected.xlsx\"]\n",
    "df = md.load_multiple_data(fnames, reset_sessions = True)"
   ]
  },
  {
   "cell_type": "code",
   "execution_count": 5,
   "metadata": {},
   "outputs": [],
   "source": [
    "#rename MSNs so that the rats on the outcome task don't have \"loss\" in the MSN\n",
    "for i in range(len(df)):\n",
    "    if df.at[i, 'MSN'] == 'LossrGT_A-losscue_v1':\n",
    "        df.at[i,'MSN'] = 'outcomeRGT_A'\n",
    "    if df.at[i, 'MSN'] == 'LossrGT_B-losscue_v1':\n",
    "        df.at[i,'MSN'] = 'outcomeRGT_B'\n",
    "        \n",
    "#rename MSNs so that the rats on the random task don't have \"loss\" in the MSN\n",
    "for i in range(len(df)):\n",
    "    if df.at[i,'MSN'] == 'AnarchyrGT_B-losscue_v6':\n",
    "        df.at[i,'MSN'] = 'RandomRGT_B'\n",
    "    if df.at[i,'MSN'] == 'AnarchyrGT_A-losscue_v6':\n",
    "        df.at[i,'MSN'] = 'RandomRGT_A'\n",
    "        \n",
    "task_list = df.groupby(['MSN'])['Subject'].unique()"
   ]
  },
  {
   "cell_type": "code",
   "execution_count": 6,
   "metadata": {},
   "outputs": [],
   "source": [
    "uncued_subs = np.concatenate(task_list[[task for task in df.MSN.unique() if 'Classic' in task]])\n",
    "standard_subs = np.concatenate((task_list['rGT_A-cue'], task_list['rGT_B-cue']))\n",
    "reverse_subs = np.concatenate((np.concatenate(task_list[[task for task in df.MSN.unique() if 'Mis' in task]]),\n",
    "                              np.concatenate(task_list[[task for task in df.MSN.unique() if 'Rev' in task]])))\n",
    "outcome_subs = np.concatenate(task_list[[task for task in df.MSN.unique() if 'outcome' in task]])\n",
    "random_subs = np.concatenate(task_list[[task for task in df.MSN.unique() if 'Random' in task]])\n",
    "loss_subs = np.concatenate(task_list[[task for task in df.MSN.unique() if 'oss' in task]])"
   ]
  },
  {
   "cell_type": "code",
   "execution_count": 7,
   "metadata": {},
   "outputs": [
    {
     "name": "stderr",
     "output_type": "stream",
     "text": [
      "/Users/laurenkerker/Documents/RGT/sparklyRGT/Pystan/model_data.py:100: SettingWithCopyWarning: \n",
      "A value is trying to be set on a copy of a slice from a DataFrame\n",
      "\n",
      "See the caveats in the documentation: https://pandas.pydata.org/pandas-docs/stable/user_guide/indexing.html#returning-a-view-versus-a-copy\n",
      "  df['Option'][i] = 0\n",
      "/Users/laurenkerker/Documents/RGT/sparklyRGT/Pystan/model_data.py:117: SettingWithCopyWarning: \n",
      "A value is trying to be set on a copy of a slice from a DataFrame\n",
      "\n",
      "See the caveats in the documentation: https://pandas.pydata.org/pandas-docs/stable/user_guide/indexing.html#returning-a-view-versus-a-copy\n",
      "  df['Sub'][i] = sub_dict[df['Subject'][i]]\n"
     ]
    },
    {
     "ename": "KeyboardInterrupt",
     "evalue": "",
     "output_type": "error",
     "traceback": [
      "\u001b[0;31m---------------------------------------------------------------------------\u001b[0m",
      "\u001b[0;31mKeyboardInterrupt\u001b[0m                         Traceback (most recent call last)",
      "\u001b[0;32m<ipython-input-7-8d839930bf0e>\u001b[0m in \u001b[0;36m<module>\u001b[0;34m\u001b[0m\n\u001b[1;32m      3\u001b[0m \u001b[0mstart\u001b[0m \u001b[0;34m=\u001b[0m \u001b[0mtimer\u001b[0m\u001b[0;34m(\u001b[0m\u001b[0;34m)\u001b[0m\u001b[0;34m\u001b[0m\u001b[0;34m\u001b[0m\u001b[0m\n\u001b[1;32m      4\u001b[0m \u001b[0;34m\u001b[0m\u001b[0m\n\u001b[0;32m----> 5\u001b[0;31m \u001b[0mloss_basic_waic\u001b[0m \u001b[0;34m=\u001b[0m \u001b[0mwc\u001b[0m\u001b[0;34m.\u001b[0m\u001b[0mwaic_fit\u001b[0m\u001b[0;34m(\u001b[0m\u001b[0mdf\u001b[0m\u001b[0;34m,\u001b[0m \u001b[0;36m5\u001b[0m\u001b[0;34m,\u001b[0m \u001b[0mloss_subs\u001b[0m\u001b[0;34m,\u001b[0m \u001b[0mloss_basic_fit\u001b[0m\u001b[0;34m,\u001b[0m \u001b[0;34m\"basic\"\u001b[0m\u001b[0;34m)\u001b[0m\u001b[0;34m\u001b[0m\u001b[0;34m\u001b[0m\u001b[0m\n\u001b[0m\u001b[1;32m      6\u001b[0m \u001b[0mend\u001b[0m \u001b[0;34m=\u001b[0m \u001b[0mtimer\u001b[0m\u001b[0;34m(\u001b[0m\u001b[0;34m)\u001b[0m\u001b[0;34m\u001b[0m\u001b[0;34m\u001b[0m\u001b[0m\n\u001b[1;32m      7\u001b[0m \u001b[0mprint\u001b[0m\u001b[0;34m(\u001b[0m\u001b[0mend\u001b[0m \u001b[0;34m-\u001b[0m \u001b[0mstart\u001b[0m\u001b[0;34m)\u001b[0m \u001b[0;31m# Time in seconds\u001b[0m\u001b[0;34m\u001b[0m\u001b[0;34m\u001b[0m\u001b[0m\n",
      "\u001b[0;32m~/Documents/RGT/sparklyRGT/Pystan/WAIC/waic.py\u001b[0m in \u001b[0;36mwaic_fit\u001b[0;34m(df, numsessions, subs, fit, model)\u001b[0m\n\u001b[1;32m    266\u001b[0m     \u001b[0msubs_df\u001b[0m\u001b[0;34m,\u001b[0m \u001b[0mmd_df\u001b[0m \u001b[0;34m=\u001b[0m \u001b[0mget_sub_df\u001b[0m\u001b[0;34m(\u001b[0m\u001b[0mdf\u001b[0m\u001b[0;34m,\u001b[0m \u001b[0mnumsessions\u001b[0m\u001b[0;34m,\u001b[0m \u001b[0msubs\u001b[0m\u001b[0;34m,\u001b[0m \u001b[0mfit\u001b[0m\u001b[0;34m,\u001b[0m \u001b[0mmodel\u001b[0m\u001b[0;34m)\u001b[0m \u001b[0;31m#calculating subs twice\u001b[0m\u001b[0;34m\u001b[0m\u001b[0;34m\u001b[0m\u001b[0m\n\u001b[1;32m    267\u001b[0m     \u001b[0;31m# num_params = draws * 4\u001b[0m\u001b[0;34m\u001b[0m\u001b[0;34m\u001b[0m\u001b[0;34m\u001b[0m\u001b[0m\n\u001b[0;32m--> 268\u001b[0;31m     \u001b[0mlog_lik_values_list\u001b[0m \u001b[0;34m=\u001b[0m \u001b[0mlog_lik_values\u001b[0m\u001b[0;34m(\u001b[0m\u001b[0msubs_df\u001b[0m\u001b[0;34m,\u001b[0m \u001b[0mmodel\u001b[0m\u001b[0;34m,\u001b[0m \u001b[0;36m4000\u001b[0m\u001b[0;34m)\u001b[0m\u001b[0;34m\u001b[0m\u001b[0;34m\u001b[0m\u001b[0m\n\u001b[0m\u001b[1;32m    269\u001b[0m     \u001b[0mid_log_likelihood\u001b[0m \u001b[0;34m=\u001b[0m \u001b[0mget_inference_data_log_lik\u001b[0m\u001b[0;34m(\u001b[0m\u001b[0mmd_df\u001b[0m\u001b[0;34m,\u001b[0m \u001b[0mlog_lik_values_list\u001b[0m\u001b[0;34m,\u001b[0m \u001b[0mfit\u001b[0m\u001b[0;34m,\u001b[0m \u001b[0;36m1000\u001b[0m\u001b[0;34m)\u001b[0m\u001b[0;34m\u001b[0m\u001b[0;34m\u001b[0m\u001b[0m\n\u001b[1;32m    270\u001b[0m \u001b[0;34m\u001b[0m\u001b[0m\n",
      "\u001b[0;32m~/Documents/RGT/sparklyRGT/Pystan/WAIC/waic.py\u001b[0m in \u001b[0;36mlog_lik_values\u001b[0;34m(sub_df, model, num_param)\u001b[0m\n\u001b[1;32m    216\u001b[0m                 \u001b[0mV\u001b[0m \u001b[0;34m=\u001b[0m \u001b[0mnp\u001b[0m\u001b[0;34m.\u001b[0m\u001b[0mzeros\u001b[0m\u001b[0;34m(\u001b[0m\u001b[0;36m4\u001b[0m\u001b[0;34m)\u001b[0m \u001b[0;31m#reset the V values\u001b[0m\u001b[0;34m\u001b[0m\u001b[0;34m\u001b[0m\u001b[0m\n\u001b[1;32m    217\u001b[0m \u001b[0;34m\u001b[0m\u001b[0m\n\u001b[0;32m--> 218\u001b[0;31m             \u001b[0mp_action\u001b[0m \u001b[0;34m=\u001b[0m \u001b[0mnp\u001b[0m\u001b[0;34m.\u001b[0m\u001b[0mexp\u001b[0m\u001b[0;34m(\u001b[0m\u001b[0mparams\u001b[0m\u001b[0;34m[\u001b[0m\u001b[0mp\u001b[0m\u001b[0;34m]\u001b[0m\u001b[0;34m[\u001b[0m\u001b[0;36m0\u001b[0m\u001b[0;34m]\u001b[0m\u001b[0;34m*\u001b[0m\u001b[0mV\u001b[0m\u001b[0;34m)\u001b[0m\u001b[0;34m/\u001b[0m\u001b[0mnp\u001b[0m\u001b[0;34m.\u001b[0m\u001b[0msum\u001b[0m\u001b[0;34m(\u001b[0m\u001b[0mnp\u001b[0m\u001b[0;34m.\u001b[0m\u001b[0mexp\u001b[0m\u001b[0;34m(\u001b[0m\u001b[0mparams\u001b[0m\u001b[0;34m[\u001b[0m\u001b[0mp\u001b[0m\u001b[0;34m]\u001b[0m\u001b[0;34m[\u001b[0m\u001b[0;36m0\u001b[0m\u001b[0;34m]\u001b[0m\u001b[0;34m*\u001b[0m\u001b[0mV\u001b[0m\u001b[0;34m)\u001b[0m\u001b[0;34m)\u001b[0m \u001b[0;31m#p_action holds the probabilities of each action (P1-P4), starting at 0.25 for each\u001b[0m\u001b[0;34m\u001b[0m\u001b[0;34m\u001b[0m\u001b[0m\n\u001b[0m\u001b[1;32m    219\u001b[0m \u001b[0;34m\u001b[0m\u001b[0m\n\u001b[1;32m    220\u001b[0m             \u001b[0;32mif\u001b[0m \u001b[0moutcome_data\u001b[0m\u001b[0;34m[\u001b[0m\u001b[0mt\u001b[0m\u001b[0;34m]\u001b[0m \u001b[0;34m==\u001b[0m \u001b[0;36m1\u001b[0m\u001b[0;34m:\u001b[0m\u001b[0;34m\u001b[0m\u001b[0;34m\u001b[0m\u001b[0m\n",
      "\u001b[0;32m<__array_function__ internals>\u001b[0m in \u001b[0;36msum\u001b[0;34m(*args, **kwargs)\u001b[0m\n",
      "\u001b[0;32m/opt/miniconda3/lib/python3.9/site-packages/numpy/core/fromnumeric.py\u001b[0m in \u001b[0;36msum\u001b[0;34m(a, axis, dtype, out, keepdims, initial, where)\u001b[0m\n\u001b[1;32m   2257\u001b[0m         \u001b[0;32mreturn\u001b[0m \u001b[0mres\u001b[0m\u001b[0;34m\u001b[0m\u001b[0;34m\u001b[0m\u001b[0m\n\u001b[1;32m   2258\u001b[0m \u001b[0;34m\u001b[0m\u001b[0m\n\u001b[0;32m-> 2259\u001b[0;31m     return _wrapreduction(a, np.add, 'sum', axis, dtype, out, keepdims=keepdims,\n\u001b[0m\u001b[1;32m   2260\u001b[0m                           initial=initial, where=where)\n\u001b[1;32m   2261\u001b[0m \u001b[0;34m\u001b[0m\u001b[0m\n",
      "\u001b[0;32m/opt/miniconda3/lib/python3.9/site-packages/numpy/core/fromnumeric.py\u001b[0m in \u001b[0;36m_wrapreduction\u001b[0;34m(obj, ufunc, method, axis, dtype, out, **kwargs)\u001b[0m\n\u001b[1;32m     68\u001b[0m \u001b[0;34m\u001b[0m\u001b[0m\n\u001b[1;32m     69\u001b[0m \u001b[0;32mdef\u001b[0m \u001b[0m_wrapreduction\u001b[0m\u001b[0;34m(\u001b[0m\u001b[0mobj\u001b[0m\u001b[0;34m,\u001b[0m \u001b[0mufunc\u001b[0m\u001b[0;34m,\u001b[0m \u001b[0mmethod\u001b[0m\u001b[0;34m,\u001b[0m \u001b[0maxis\u001b[0m\u001b[0;34m,\u001b[0m \u001b[0mdtype\u001b[0m\u001b[0;34m,\u001b[0m \u001b[0mout\u001b[0m\u001b[0;34m,\u001b[0m \u001b[0;34m**\u001b[0m\u001b[0mkwargs\u001b[0m\u001b[0;34m)\u001b[0m\u001b[0;34m:\u001b[0m\u001b[0;34m\u001b[0m\u001b[0;34m\u001b[0m\u001b[0m\n\u001b[0;32m---> 70\u001b[0;31m     passkwargs = {k: v for k, v in kwargs.items()\n\u001b[0m\u001b[1;32m     71\u001b[0m                   if v is not np._NoValue}\n\u001b[1;32m     72\u001b[0m \u001b[0;34m\u001b[0m\u001b[0m\n",
      "\u001b[0;32m/opt/miniconda3/lib/python3.9/site-packages/numpy/core/fromnumeric.py\u001b[0m in \u001b[0;36m<dictcomp>\u001b[0;34m(.0)\u001b[0m\n\u001b[1;32m     69\u001b[0m \u001b[0;32mdef\u001b[0m \u001b[0m_wrapreduction\u001b[0m\u001b[0;34m(\u001b[0m\u001b[0mobj\u001b[0m\u001b[0;34m,\u001b[0m \u001b[0mufunc\u001b[0m\u001b[0;34m,\u001b[0m \u001b[0mmethod\u001b[0m\u001b[0;34m,\u001b[0m \u001b[0maxis\u001b[0m\u001b[0;34m,\u001b[0m \u001b[0mdtype\u001b[0m\u001b[0;34m,\u001b[0m \u001b[0mout\u001b[0m\u001b[0;34m,\u001b[0m \u001b[0;34m**\u001b[0m\u001b[0mkwargs\u001b[0m\u001b[0;34m)\u001b[0m\u001b[0;34m:\u001b[0m\u001b[0;34m\u001b[0m\u001b[0;34m\u001b[0m\u001b[0m\n\u001b[1;32m     70\u001b[0m     passkwargs = {k: v for k, v in kwargs.items()\n\u001b[0;32m---> 71\u001b[0;31m                   if v is not np._NoValue}\n\u001b[0m\u001b[1;32m     72\u001b[0m \u001b[0;34m\u001b[0m\u001b[0m\n\u001b[1;32m     73\u001b[0m     \u001b[0;32mif\u001b[0m \u001b[0mtype\u001b[0m\u001b[0;34m(\u001b[0m\u001b[0mobj\u001b[0m\u001b[0;34m)\u001b[0m \u001b[0;32mis\u001b[0m \u001b[0;32mnot\u001b[0m \u001b[0mmu\u001b[0m\u001b[0;34m.\u001b[0m\u001b[0mndarray\u001b[0m\u001b[0;34m:\u001b[0m\u001b[0;34m\u001b[0m\u001b[0;34m\u001b[0m\u001b[0m\n",
      "\u001b[0;31mKeyboardInterrupt\u001b[0m: "
     ]
    }
   ],
   "source": [
    "from timeit import default_timer as timer\n",
    "\n",
    "start = timer()\n",
    "\n",
    "loss_basic_waic = wc.waic_fit(df, 5, loss_subs, loss_basic_fit, \"basic\", 1000)\n",
    "end = timer()\n",
    "print(end - start) # Time in seconds\n",
    "\n",
    "loss_basic_waic"
   ]
  },
  {
   "cell_type": "code",
   "execution_count": null,
   "metadata": {},
   "outputs": [],
   "source": [
    "loss_basic_waic = wc.waic_fit(df, 5, loss_subs, loss_basic_fit, \"basic\")\n",
    "outcome_basic_waic = wc.waic_fit(df, 5, outcome_subs, outcome_basic_fit, \"basic\")\n",
    "random_basic_waic = wc.waic_fit(df, 5, random_subs, random_basic_fit, \"basic\")\n",
    "reverse_basic_waic = wc.waic_fit(df, 5, reverse_subs, reverse_basic_fit, \"basic\")\n",
    "standard_basic_waic = wc.waic_fit(df, 5, standard_subs, standard_basic_fit, \"basic\")\n",
    "uncued_basic_waic = wc.waic_fit(df, 5, uncued_subs, uncued_basic_fit, \"basic\")\n",
    "\n",
    "basic_list = [loss_basic_waic.waic, outcome_basic_waic.waic, random_basic_waic.waic, reverse_basic_waic.waic, standard_basic_waic.waic, uncued_basic_waic.waic]\n",
    "basic_list_SE = [loss_basic_waic.waic_se, outcome_basic_waic.waic_se, random_basic_waic.waic_se, reverse_basic_waic.waic_se, standard_basic_waic.waic_se, uncued_basic_waic.waic_se]"
   ]
  },
  {
   "cell_type": "code",
   "execution_count": null,
   "metadata": {},
   "outputs": [],
   "source": [
    "loss_basicstar_waic = wc.waic_fit(df, 5, loss_subs, loss_basicstar_fit, \"basicstar\")\n",
    "outcome_basicstar_waic = wc.waic_fit(df, 5, outcome_subs, outcome_basicstar_fit, \"basicstar\")\n",
    "random_basicstar_waic = wc.waic_fit(df, 5, random_subs, random_basicstar_fit, \"basicstar\")\n",
    "reverse_basicstar_waic = wc.waic_fit(df, 5, reverse_subs, reverse_basicstar_fit, \"basicstar\")\n",
    "standard_basicstar_waic = wc.waic_fit(df, 5, standard_subs, standard_basicstar_fit, \"basicstar\")\n",
    "uncued_basicstar_waic = wc.waic_fit(df, 5, uncued_subs, uncued_basicstar_fit, \"basicstar\")\n",
    "\n",
    "basicstar_list = [loss_basicstar_waic.waic, outcome_basicstar_waic.waic, random_basicstar_waic.waic, reverse_basicstar_waic.waic, standard_basicstar_waic.waic, uncued_basicstar_waic.waic]\n",
    "basicstar_list_SE = [loss_basicstar_waic.waic_se, outcome_basicstar_waic.waic_se, random_basicstar_waic.waic_se, reverse_basicstar_waic.waic_se, standard_basicstar_waic.waic_se, uncued_basicstar_waic.waic_se]"
   ]
  },
  {
   "cell_type": "code",
   "execution_count": null,
   "metadata": {},
   "outputs": [],
   "source": [
    "loss_pscale_waic = wc.waic_fit(df, 5, loss_subs, loss_pscale_fit, \"pscale\")\n",
    "outcome_pscale_waic = wc.waic_fit(df, 5, outcome_subs, outcome_pscale_fit, \"pscale\")\n",
    "random_pscale_waic = wc.waic_fit(df, 5, random_subs, random_pscale_fit, \"pscale\")\n",
    "reverse_pscale_waic = wc.waic_fit(df, 5, reverse_subs, reverse_pscale_fit, \"pscale\")\n",
    "standard_pscale_waic = wc.waic_fit(df, 5, standard_subs, standard_pscale_fit, \"pscale\")\n",
    "uncued_pscale_waic = wc.waic_fit(df, 5, uncued_subs, uncued_pscale_fit, \"pscale\")\n",
    "\n",
    "pscale_list = [loss_pscale_waic.waic, outcome_pscale_waic.waic, random_pscale_waic.waic, reverse_pscale_waic.waic, standard_pscale_waic.waic, uncued_pscale_waic.waic]\n",
    "pscale_list_SE = [loss_pscale_waic.waic_se, outcome_pscale_waic.waic_se, random_pscale_waic.waic_se, reverse_pscale_waic.waic_se, standard_pscale_waic.waic_se, uncued_pscale_waic.waic_se]"
   ]
  },
  {
   "cell_type": "code",
   "execution_count": null,
   "metadata": {},
   "outputs": [],
   "source": [
    "loss_pscalestar_waic = wc.waic_fit(df, 5, loss_subs, loss_pscalestar_fit, \"pscalestar\")\n",
    "outcome_pscalestar_waic = wc.waic_fit(df, 5, outcome_subs, outcome_pscalestar_fit, \"pscalestar\")\n",
    "random_pscalestar_waic = wc.waic_fit(df, 5, random_subs, random_pscalestar_fit, \"pscalestar\")\n",
    "reverse_pscalestar_waic = wc.waic_fit(df, 5, reverse_subs, reverse_pscalestar_fit, \"pscalestar\")\n",
    "standard_pscalestar_waic = wc.waic_fit(df, 5, standard_subs, standard_pscalestar_fit, \"pscalestar\")\n",
    "uncued_pscalestar_waic = wc.waic_fit(df, 5, uncued_subs, uncued_pscalestar_fit, \"pscalestar\")\n",
    "\n",
    "pscalestar_list = [loss_pscalestar_waic.waic, outcome_pscalestar_waic.waic, random_pscalestar_waic.waic, reverse_pscalestar_waic.waic, standard_pscalestar_waic.waic, uncued_pscalestar_waic.waic]\n",
    "pscalestar_list_SE = [loss_pscalestar_waic.waic_se, outcome_pscalestar_waic.waic_se, random_pscalestar_waic.waic_se, reverse_pscalestar_waic.waic_se, standard_pscalestar_waic.waic_se, uncued_pscalestar_waic.waic_se]"
   ]
  },
  {
   "cell_type": "code",
   "execution_count": null,
   "metadata": {},
   "outputs": [],
   "source": [
    "loss_pindep_waic = wc.waic_fit(df, 5, loss_subs, loss_pindep_fit, \"pindep\")\n",
    "outcome_pindep_waic = wc.waic_fit(df, 5, outcome_subs, outcome_pindep_fit, \"pindep\")\n",
    "random_pindep_waic = wc.waic_fit(df, 5, random_subs, random_pindep_fit, \"pindep\")\n",
    "reverse_pindep_waic = wc.waic_fit(df, 5, reverse_subs, reverse_pindep_fit, \"pindep\")\n",
    "standard_pindep_waic = wc.waic_fit(df, 5, standard_subs, standard_pindep_fit, \"pindep\")\n",
    "uncued_pindep_waic = wc.waic_fit(df, 5, uncued_subs, uncued_pindep_fit, \"pindep\")\n",
    "\n",
    "pindep_list = [loss_pindep_waic.waic, outcome_pindep_waic.waic, random_pindep_waic.waic, reverse_pindep_waic.waic, standard_pindep_waic.waic, uncued_pindep_waic.waic]\n",
    "pindep_list_SE = [loss_pindep_waic.waic_se, outcome_pindep_waic.waic_se, random_pindep_waic.waic_se, reverse_pindep_waic.waic_se, standard_pindep_waic.waic_se, uncued_pindep_waic.waic_se]"
   ]
  },
  {
   "cell_type": "code",
   "execution_count": null,
   "metadata": {},
   "outputs": [],
   "source": [
    "loss_pindepstar_waic = wc.waic_fit(df, 5, loss_subs, loss_pindepstar_fit, \"pindepstar\")\n",
    "outcome_pindepstar_waic = wc.waic_fit(df, 5, outcome_subs, outcome_pindepstar_fit, \"pindepstar\")\n",
    "random_pindepstar_waic = wc.waic_fit(df, 5, random_subs, random_pindepstar_fit, \"pindepstar\")\n",
    "reverse_pindepstar_waic = wc.waic_fit(df, 5, reverse_subs, reverse_pindepstar_fit, \"pindepstar\")\n",
    "standard_pindepstar_waic = wc.waic_fit(df, 5, standard_subs, standard_pindepstar_fit, \"pindepstar\")\n",
    "uncued_pindepstar_waic = wc.waic_fit(df, 5, uncued_subs, uncued_pindepstar_fit, \"pindepstar\")\n",
    "\n",
    "pindepstar_list = [loss_pindepstar_waic.waic, outcome_pindepstar_waic.waic, random_pindepstar_waic.waic, reverse_pindepstar_waic.waic, standard_pindepstar_waic.waic, uncued_pindepstar_waic.waic]\n",
    "pindepstar_list_SE = [loss_pindepstar_waic.waic_se, outcome_pindepstar_waic.waic_se, random_pindepstar_waic.waic_se, reverse_pindepstar_waic.waic_se, standard_pindepstar_waic.waic_se, uncued_pindepstar_waic.waic_se]"
   ]
  },
  {
   "cell_type": "code",
   "execution_count": null,
   "metadata": {},
   "outputs": [],
   "source": [
    "waic_values = pd.DataFrame(\n",
    "    {'basic_waic': basic_list,\n",
    "     'basic_waic_SE': basic_list_SE, \n",
    "     'basicstar_waic': basicstar_list,\n",
    "     'basicstar_waic_SE': basicstar_list_SE,\n",
    "     'pscale_waic': pscale_list,\n",
    "     'pscale_waic_SE': pscale_list_SE,\n",
    "     'pscalestar_waic': pscalestar_list,\n",
    "     'pscalestar_SE': pscalestar_list_SE,\n",
    "     'pindep_waic': pindep_list,\n",
    "     'pindep_waic_SE': pindep_list_SE,\n",
    "     'pindepstar_waic': pindepstar_list,\n",
    "     'pindepstar_waic_SE': pindepstar_list_SE},\n",
    "     index = [\"loss\", \"outcome\", \"random\", \"reverse\", \"standard\", \"uncued\"])\n",
    "\n",
    "waic_values.to_excel(\"waic_values.xlsx\")"
   ]
  }
 ],
 "metadata": {
  "kernelspec": {
   "display_name": "Python 3",
   "language": "python",
   "name": "python3"
  },
  "language_info": {
   "codemirror_mode": {
    "name": "ipython",
    "version": 3
   },
   "file_extension": ".py",
   "mimetype": "text/x-python",
   "name": "python",
   "nbconvert_exporter": "python",
   "pygments_lexer": "ipython3",
   "version": "3.9.5"
  }
 },
 "nbformat": 4,
 "nbformat_minor": 4
}
