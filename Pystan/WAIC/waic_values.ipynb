{
 "cells": [
  {
   "cell_type": "code",
   "execution_count": 1,
   "metadata": {},
   "outputs": [],
   "source": [
    "import numpy as np\n",
    "import os \n",
    "import arviz as az\n",
    "import pandas as pd\n",
    "import math\n",
    "import xarray as xr\n",
    "os.chdir(\"..\")\n",
    "import model_data as md\n",
    "import waic as wc"
   ]
  },
  {
   "cell_type": "code",
   "execution_count": 2,
   "metadata": {},
   "outputs": [],
   "source": [
    "os.chdir('nc_files')"
   ]
  },
  {
   "cell_type": "code",
   "execution_count": 7,
   "metadata": {},
   "outputs": [
    {
     "ename": "FileNotFoundError",
     "evalue": "[Errno 2] No such file or directory: 'sparklyRGT/Pystan'",
     "output_type": "error",
     "traceback": [
      "\u001b[0;31m---------------------------------------------------------------------------\u001b[0m",
      "\u001b[0;31mFileNotFoundError\u001b[0m                         Traceback (most recent call last)",
      "\u001b[0;32m<ipython-input-7-2693e376c85d>\u001b[0m in \u001b[0;36m<module>\u001b[0;34m\u001b[0m\n\u001b[0;32m----> 1\u001b[0;31m \u001b[0mos\u001b[0m\u001b[0;34m.\u001b[0m\u001b[0mchdir\u001b[0m\u001b[0;34m(\u001b[0m\u001b[0;34m\"sparklyRGT/Pystan\"\u001b[0m\u001b[0;34m)\u001b[0m\u001b[0;34m\u001b[0m\u001b[0;34m\u001b[0m\u001b[0m\n\u001b[0m",
      "\u001b[0;31mFileNotFoundError\u001b[0m: [Errno 2] No such file or directory: 'sparklyRGT/Pystan'"
     ]
    }
   ],
   "source": [
    "# os.chdir(\"sparklyRGT/Pystan\")"
   ]
  },
  {
   "cell_type": "code",
   "execution_count": 3,
   "metadata": {},
   "outputs": [],
   "source": [
    "loss_basic_fit = az.from_netcdf('loss_basic_fit.nc')\n",
    "outcome_basic_fit = az.from_netcdf('outcome_basic_fit.nc')\n",
    "random_basic_fit = az.from_netcdf('random_basic_fit.nc')\n",
    "reverse_basic_fit = az.from_netcdf('reverse_basic_fit.nc')\n",
    "standard_basic_fit = az.from_netcdf('standard_basic_fit.nc')\n",
    "uncued_basic_fit = az.from_netcdf('uncued_basic_fit.nc')\n",
    "\n",
    "loss_basicstar_fit = az.from_netcdf('loss_basic-star_fit.nc')\n",
    "outcome_basicstar_fit = az.from_netcdf('outcome_basic-star_fit.nc')\n",
    "random_basicstar_fit = az.from_netcdf('random_basic-star_fit.nc')\n",
    "reverse_basicstar_fit = az.from_netcdf('reverse_basic-star_fit.nc')\n",
    "standard_basicstar_fit = az.from_netcdf('standard_basic-star_fit.nc')\n",
    "uncued_basicstar_fit = az.from_netcdf('uncued_basic-star_fit.nc')\n",
    "\n",
    "loss_pscale_fit = az.from_netcdf('loss_pscale_fit.nc')\n",
    "outcome_pscale_fit = az.from_netcdf('outcome_pscale_fit.nc')\n",
    "random_pscale_fit = az.from_netcdf('random_pscale_fit.nc')\n",
    "# reverse_pscale_fit = az.from_netcdf('reverse_pscale_fit.nc')\n",
    "standard_pscale_fit = az.from_netcdf('standard_pscale_fit.nc')\n",
    "uncued_pscale_fit = az.from_netcdf('uncued_pscale_fit.nc')\n",
    "\n",
    "loss_pscalestar_fit = az.from_netcdf('loss_pscale-star_fit.nc')\n",
    "outcome_pscalestar_fit = az.from_netcdf('outcome_pscale-star_fit.nc')\n",
    "random_pscalestar_fit = az.from_netcdf('random_pscale-star_fit.nc')\n",
    "reverse_pscalestar_fit = az.from_netcdf('reverse_pscale-star_fit.nc')\n",
    "standard_pscalestar_fit = az.from_netcdf('standard_pscale-star_fit.nc')\n",
    "uncued_pscalestar_fit = az.from_netcdf('uncued_pscale-star_fit.nc')"
   ]
  },
  {
   "cell_type": "code",
   "execution_count": 4,
   "metadata": {},
   "outputs": [],
   "source": [
    "os.chdir(\"..\") \n",
    "fnames = ['BH09_raw-free_S1-5_corrected.xlsx','CH02_corrected.xlsx','NA01_raw_free-choice_S8-18.xlsx',\"CH01_corrected.xlsx\"]\n",
    "df = md.load_multiple_data(fnames, reset_sessions = True)"
   ]
  },
  {
   "cell_type": "code",
   "execution_count": 5,
   "metadata": {},
   "outputs": [],
   "source": [
    "#rename MSNs so that the rats on the outcome task don't have \"loss\" in the MSN\n",
    "for i in range(len(df)):\n",
    "    if df.at[i, 'MSN'] == 'LossrGT_A-losscue_v1':\n",
    "        df.at[i,'MSN'] = 'outcomeRGT_A'\n",
    "    if df.at[i, 'MSN'] == 'LossrGT_B-losscue_v1':\n",
    "        df.at[i,'MSN'] = 'outcomeRGT_B'\n",
    "        \n",
    "#rename MSNs so that the rats on the random task don't have \"loss\" in the MSN\n",
    "for i in range(len(df)):\n",
    "    if df.at[i,'MSN'] == 'AnarchyrGT_B-losscue_v6':\n",
    "        df.at[i,'MSN'] = 'RandomRGT_B'\n",
    "    if df.at[i,'MSN'] == 'AnarchyrGT_A-losscue_v6':\n",
    "        df.at[i,'MSN'] = 'RandomRGT_A'\n",
    "        \n",
    "task_list = df.groupby(['MSN'])['Subject'].unique()"
   ]
  },
  {
   "cell_type": "code",
   "execution_count": 6,
   "metadata": {},
   "outputs": [],
   "source": [
    "uncued_subs = np.concatenate(task_list[[task for task in df.MSN.unique() if 'Classic' in task]])\n",
    "standard_subs = np.concatenate((task_list['rGT_A-cue'], task_list['rGT_B-cue']))\n",
    "reverse_subs = np.concatenate((np.concatenate(task_list[[task for task in df.MSN.unique() if 'Mis' in task]]),\n",
    "                              np.concatenate(task_list[[task for task in df.MSN.unique() if 'Rev' in task]])))\n",
    "outcome_subs = np.concatenate(task_list[[task for task in df.MSN.unique() if 'outcome' in task]])\n",
    "random_subs = np.concatenate(task_list[[task for task in df.MSN.unique() if 'Random' in task]])\n",
    "loss_subs = np.concatenate(task_list[[task for task in df.MSN.unique() if 'oss' in task]])"
   ]
  },
  {
   "cell_type": "code",
   "execution_count": 7,
   "metadata": {},
   "outputs": [
    {
     "name": "stderr",
     "output_type": "stream",
     "text": [
      "/Users/laurenkerker/Documents/RGT/sparklyRGT/Pystan/model_data.py:100: SettingWithCopyWarning: \n",
      "A value is trying to be set on a copy of a slice from a DataFrame\n",
      "\n",
      "See the caveats in the documentation: https://pandas.pydata.org/pandas-docs/stable/user_guide/indexing.html#returning-a-view-versus-a-copy\n",
      "  df['Option'][i] = 0\n",
      "/Users/laurenkerker/Documents/RGT/sparklyRGT/Pystan/model_data.py:117: SettingWithCopyWarning: \n",
      "A value is trying to be set on a copy of a slice from a DataFrame\n",
      "\n",
      "See the caveats in the documentation: https://pandas.pydata.org/pandas-docs/stable/user_guide/indexing.html#returning-a-view-versus-a-copy\n",
      "  df['Sub'][i] = sub_dict[df['Subject'][i]]\n",
      "/opt/miniconda3/lib/python3.9/site-packages/arviz/stats/stats.py:1458: UserWarning: For one or more samples the posterior variance of the log predictive densities exceeds 0.4. This could be indication of WAIC starting to fail. \n",
      "See http://arxiv.org/abs/1507.04544 for details\n",
      "  warnings.warn(\n"
     ]
    },
    {
     "name": "stdout",
     "output_type": "stream",
     "text": [
      "1096.29210189\n"
     ]
    },
    {
     "data": {
      "text/plain": [
       "Computed from 4000 by 12788 log-likelihood matrix\n",
       "\n",
       "          Estimate       SE\n",
       "elpd_waic -16517.43     4.15\n",
       "p_waic     7820.88        -\n",
       "\n",
       "There has been a warning during the calculation. Please check the results."
      ]
     },
     "execution_count": 7,
     "metadata": {},
     "output_type": "execute_result"
    }
   ],
   "source": [
    "from timeit import default_timer as timer\n",
    "\n",
    "start = timer()\n",
    "\n",
    "loss_basic_waic = wc.waic_fit(df, 5, loss_subs, loss_basic_fit, \"basic\", 1000)\n",
    "end = timer()\n",
    "print(end - start) # Time in seconds\n",
    "\n",
    "loss_basic_waic"
   ]
  },
  {
   "cell_type": "code",
   "execution_count": null,
   "metadata": {},
   "outputs": [
    {
     "name": "stderr",
     "output_type": "stream",
     "text": [
      "/Users/laurenkerker/Documents/RGT/sparklyRGT/Pystan/model_data.py:100: SettingWithCopyWarning: \n",
      "A value is trying to be set on a copy of a slice from a DataFrame\n",
      "\n",
      "See the caveats in the documentation: https://pandas.pydata.org/pandas-docs/stable/user_guide/indexing.html#returning-a-view-versus-a-copy\n",
      "  df['Option'][i] = 0\n",
      "/Users/laurenkerker/Documents/RGT/sparklyRGT/Pystan/model_data.py:117: SettingWithCopyWarning: \n",
      "A value is trying to be set on a copy of a slice from a DataFrame\n",
      "\n",
      "See the caveats in the documentation: https://pandas.pydata.org/pandas-docs/stable/user_guide/indexing.html#returning-a-view-versus-a-copy\n",
      "  df['Sub'][i] = sub_dict[df['Subject'][i]]\n",
      "/opt/miniconda3/lib/python3.9/site-packages/arviz/stats/stats.py:1458: UserWarning: For one or more samples the posterior variance of the log predictive densities exceeds 0.4. This could be indication of WAIC starting to fail. \n",
      "See http://arxiv.org/abs/1507.04544 for details\n",
      "  warnings.warn(\n",
      "/Users/laurenkerker/Documents/RGT/sparklyRGT/Pystan/model_data.py:100: SettingWithCopyWarning: \n",
      "A value is trying to be set on a copy of a slice from a DataFrame\n",
      "\n",
      "See the caveats in the documentation: https://pandas.pydata.org/pandas-docs/stable/user_guide/indexing.html#returning-a-view-versus-a-copy\n",
      "  df['Option'][i] = 0\n",
      "/Users/laurenkerker/Documents/RGT/sparklyRGT/Pystan/model_data.py:117: SettingWithCopyWarning: \n",
      "A value is trying to be set on a copy of a slice from a DataFrame\n",
      "\n",
      "See the caveats in the documentation: https://pandas.pydata.org/pandas-docs/stable/user_guide/indexing.html#returning-a-view-versus-a-copy\n",
      "  df['Sub'][i] = sub_dict[df['Subject'][i]]\n",
      "/opt/miniconda3/lib/python3.9/site-packages/arviz/stats/stats.py:1458: UserWarning: For one or more samples the posterior variance of the log predictive densities exceeds 0.4. This could be indication of WAIC starting to fail. \n",
      "See http://arxiv.org/abs/1507.04544 for details\n",
      "  warnings.warn(\n",
      "/Users/laurenkerker/Documents/RGT/sparklyRGT/Pystan/model_data.py:100: SettingWithCopyWarning: \n",
      "A value is trying to be set on a copy of a slice from a DataFrame\n",
      "\n",
      "See the caveats in the documentation: https://pandas.pydata.org/pandas-docs/stable/user_guide/indexing.html#returning-a-view-versus-a-copy\n",
      "  df['Option'][i] = 0\n",
      "/Users/laurenkerker/Documents/RGT/sparklyRGT/Pystan/model_data.py:117: SettingWithCopyWarning: \n",
      "A value is trying to be set on a copy of a slice from a DataFrame\n",
      "\n",
      "See the caveats in the documentation: https://pandas.pydata.org/pandas-docs/stable/user_guide/indexing.html#returning-a-view-versus-a-copy\n",
      "  df['Sub'][i] = sub_dict[df['Subject'][i]]\n"
     ]
    }
   ],
   "source": [
    "options = [\"loss\", \"outcome\", \"random\", \"reverse\", \"standard\", \"uncued\"]\n",
    "models = [\"basic\", \"pscale\", \"pindep\", \"basicstar\", \"pscalestar\", \"pindepstar\"]\n",
    "n = 5\n",
    "\n",
    "for m in models:\n",
    "    for o in options:\n",
    "        name = o + \"_\" + m + \"_fit\"\n",
    "        var_name = o + \"_\" + m + \"_waic\"\n",
    "        subs_name = o + \"_subs\"\n",
    "        globals()[var_name] = wc.waic_fit(df, n, globals()[subs_name], globals()[name], m, 1000)\n",
    "    list_name = m + \"_list\"\n",
    "    list_name_SE = list_name + \"_SE\"\n",
    "    globals()[list_name] = []\n",
    "    for o in options:\n",
    "        waic_name = o + \"_\" + m + \"_waic\"\n",
    "        globals()[list_name].append(globals()[waic_name].waic)"
   ]
  },
  {
   "cell_type": "code",
   "execution_count": null,
   "metadata": {},
   "outputs": [],
   "source": [
    "loss_basic_waic = wc.waic_fit(df, 5, loss_subs, loss_basic_fit, \"basic\")\n",
    "outcome_basic_waic = wc.waic_fit(df, 5, outcome_subs, outcome_basic_fit, \"basic\")\n",
    "random_basic_waic = wc.waic_fit(df, 5, random_subs, random_basic_fit, \"basic\")\n",
    "reverse_basic_waic = wc.waic_fit(df, 5, reverse_subs, reverse_basic_fit, \"basic\")\n",
    "standard_basic_waic = wc.waic_fit(df, 5, standard_subs, standard_basic_fit, \"basic\")\n",
    "uncued_basic_waic = wc.waic_fit(df, 5, uncued_subs, uncued_basic_fit, \"basic\")\n",
    "\n",
    "basic_list = [loss_basic_waic.waic, outcome_basic_waic.waic, random_basic_waic.waic, reverse_basic_waic.waic, standard_basic_waic.waic, uncued_basic_waic.waic]\n",
    "basic_list_SE = [loss_basic_waic.waic_se, outcome_basic_waic.waic_se, random_basic_waic.waic_se, reverse_basic_waic.waic_se, standard_basic_waic.waic_se, uncued_basic_waic.waic_se]"
   ]
  },
  {
   "cell_type": "code",
   "execution_count": null,
   "metadata": {},
   "outputs": [],
   "source": [
    "loss_basicstar_waic = wc.waic_fit(df, 5, loss_subs, loss_basicstar_fit, \"basicstar\")\n",
    "outcome_basicstar_waic = wc.waic_fit(df, 5, outcome_subs, outcome_basicstar_fit, \"basicstar\")\n",
    "random_basicstar_waic = wc.waic_fit(df, 5, random_subs, random_basicstar_fit, \"basicstar\")\n",
    "reverse_basicstar_waic = wc.waic_fit(df, 5, reverse_subs, reverse_basicstar_fit, \"basicstar\")\n",
    "standard_basicstar_waic = wc.waic_fit(df, 5, standard_subs, standard_basicstar_fit, \"basicstar\")\n",
    "uncued_basicstar_waic = wc.waic_fit(df, 5, uncued_subs, uncued_basicstar_fit, \"basicstar\")\n",
    "\n",
    "basicstar_list = [loss_basicstar_waic.waic, outcome_basicstar_waic.waic, random_basicstar_waic.waic, reverse_basicstar_waic.waic, standard_basicstar_waic.waic, uncued_basicstar_waic.waic]\n",
    "basicstar_list_SE = [loss_basicstar_waic.waic_se, outcome_basicstar_waic.waic_se, random_basicstar_waic.waic_se, reverse_basicstar_waic.waic_se, standard_basicstar_waic.waic_se, uncued_basicstar_waic.waic_se]"
   ]
  },
  {
   "cell_type": "code",
   "execution_count": null,
   "metadata": {},
   "outputs": [],
   "source": [
    "loss_pscale_waic = wc.waic_fit(df, 5, loss_subs, loss_pscale_fit, \"pscale\")\n",
    "outcome_pscale_waic = wc.waic_fit(df, 5, outcome_subs, outcome_pscale_fit, \"pscale\")\n",
    "random_pscale_waic = wc.waic_fit(df, 5, random_subs, random_pscale_fit, \"pscale\")\n",
    "reverse_pscale_waic = wc.waic_fit(df, 5, reverse_subs, reverse_pscale_fit, \"pscale\")\n",
    "standard_pscale_waic = wc.waic_fit(df, 5, standard_subs, standard_pscale_fit, \"pscale\")\n",
    "uncued_pscale_waic = wc.waic_fit(df, 5, uncued_subs, uncued_pscale_fit, \"pscale\")\n",
    "\n",
    "pscale_list = [loss_pscale_waic.waic, outcome_pscale_waic.waic, random_pscale_waic.waic, reverse_pscale_waic.waic, standard_pscale_waic.waic, uncued_pscale_waic.waic]\n",
    "pscale_list_SE = [loss_pscale_waic.waic_se, outcome_pscale_waic.waic_se, random_pscale_waic.waic_se, reverse_pscale_waic.waic_se, standard_pscale_waic.waic_se, uncued_pscale_waic.waic_se]"
   ]
  },
  {
   "cell_type": "code",
   "execution_count": null,
   "metadata": {},
   "outputs": [],
   "source": [
    "loss_pscalestar_waic = wc.waic_fit(df, 5, loss_subs, loss_pscalestar_fit, \"pscalestar\")\n",
    "outcome_pscalestar_waic = wc.waic_fit(df, 5, outcome_subs, outcome_pscalestar_fit, \"pscalestar\")\n",
    "random_pscalestar_waic = wc.waic_fit(df, 5, random_subs, random_pscalestar_fit, \"pscalestar\")\n",
    "reverse_pscalestar_waic = wc.waic_fit(df, 5, reverse_subs, reverse_pscalestar_fit, \"pscalestar\")\n",
    "standard_pscalestar_waic = wc.waic_fit(df, 5, standard_subs, standard_pscalestar_fit, \"pscalestar\")\n",
    "uncued_pscalestar_waic = wc.waic_fit(df, 5, uncued_subs, uncued_pscalestar_fit, \"pscalestar\")\n",
    "\n",
    "pscalestar_list = [loss_pscalestar_waic.waic, outcome_pscalestar_waic.waic, random_pscalestar_waic.waic, reverse_pscalestar_waic.waic, standard_pscalestar_waic.waic, uncued_pscalestar_waic.waic]\n",
    "pscalestar_list_SE = [loss_pscalestar_waic.waic_se, outcome_pscalestar_waic.waic_se, random_pscalestar_waic.waic_se, reverse_pscalestar_waic.waic_se, standard_pscalestar_waic.waic_se, uncued_pscalestar_waic.waic_se]"
   ]
  },
  {
   "cell_type": "code",
   "execution_count": null,
   "metadata": {},
   "outputs": [],
   "source": [
    "loss_pindep_waic = wc.waic_fit(df, 5, loss_subs, loss_pindep_fit, \"pindep\")\n",
    "outcome_pindep_waic = wc.waic_fit(df, 5, outcome_subs, outcome_pindep_fit, \"pindep\")\n",
    "random_pindep_waic = wc.waic_fit(df, 5, random_subs, random_pindep_fit, \"pindep\")\n",
    "reverse_pindep_waic = wc.waic_fit(df, 5, reverse_subs, reverse_pindep_fit, \"pindep\")\n",
    "standard_pindep_waic = wc.waic_fit(df, 5, standard_subs, standard_pindep_fit, \"pindep\")\n",
    "uncued_pindep_waic = wc.waic_fit(df, 5, uncued_subs, uncued_pindep_fit, \"pindep\")\n",
    "\n",
    "pindep_list = [loss_pindep_waic.waic, outcome_pindep_waic.waic, random_pindep_waic.waic, reverse_pindep_waic.waic, standard_pindep_waic.waic, uncued_pindep_waic.waic]\n",
    "pindep_list_SE = [loss_pindep_waic.waic_se, outcome_pindep_waic.waic_se, random_pindep_waic.waic_se, reverse_pindep_waic.waic_se, standard_pindep_waic.waic_se, uncued_pindep_waic.waic_se]"
   ]
  },
  {
   "cell_type": "code",
   "execution_count": null,
   "metadata": {},
   "outputs": [],
   "source": [
    "loss_pindepstar_waic = wc.waic_fit(df, 5, loss_subs, loss_pindepstar_fit, \"pindepstar\")\n",
    "outcome_pindepstar_waic = wc.waic_fit(df, 5, outcome_subs, outcome_pindepstar_fit, \"pindepstar\")\n",
    "random_pindepstar_waic = wc.waic_fit(df, 5, random_subs, random_pindepstar_fit, \"pindepstar\")\n",
    "reverse_pindepstar_waic = wc.waic_fit(df, 5, reverse_subs, reverse_pindepstar_fit, \"pindepstar\")\n",
    "standard_pindepstar_waic = wc.waic_fit(df, 5, standard_subs, standard_pindepstar_fit, \"pindepstar\")\n",
    "uncued_pindepstar_waic = wc.waic_fit(df, 5, uncued_subs, uncued_pindepstar_fit, \"pindepstar\")\n",
    "\n",
    "pindepstar_list = [loss_pindepstar_waic.waic, outcome_pindepstar_waic.waic, random_pindepstar_waic.waic, reverse_pindepstar_waic.waic, standard_pindepstar_waic.waic, uncued_pindepstar_waic.waic]\n",
    "pindepstar_list_SE = [loss_pindepstar_waic.waic_se, outcome_pindepstar_waic.waic_se, random_pindepstar_waic.waic_se, reverse_pindepstar_waic.waic_se, standard_pindepstar_waic.waic_se, uncued_pindepstar_waic.waic_se]"
   ]
  },
  {
   "cell_type": "code",
   "execution_count": null,
   "metadata": {},
   "outputs": [],
   "source": [
    "waic_values = pd.DataFrame(\n",
    "    {'basic_waic': basic_list,\n",
    "     'basic_waic_SE': basic_list_SE, \n",
    "     'basicstar_waic': basicstar_list,\n",
    "     'basicstar_waic_SE': basicstar_list_SE,\n",
    "     'pscale_waic': pscale_list,\n",
    "     'pscale_waic_SE': pscale_list_SE,\n",
    "     'pscalestar_waic': pscalestar_list,\n",
    "     'pscalestar_SE': pscalestar_list_SE,\n",
    "     'pindep_waic': pindep_list,\n",
    "     'pindep_waic_SE': pindep_list_SE,\n",
    "     'pindepstar_waic': pindepstar_list,\n",
    "     'pindepstar_waic_SE': pindepstar_list_SE},\n",
    "     index = [\"loss\", \"outcome\", \"random\", \"reverse\", \"standard\", \"uncued\"])\n",
    "\n",
    "waic_values.to_excel(\"waic_values.xlsx\")"
   ]
  }
 ],
 "metadata": {
  "kernelspec": {
   "display_name": "Python 3",
   "language": "python",
   "name": "python3"
  },
  "language_info": {
   "codemirror_mode": {
    "name": "ipython",
    "version": 3
   },
   "file_extension": ".py",
   "mimetype": "text/x-python",
   "name": "python",
   "nbconvert_exporter": "python",
   "pygments_lexer": "ipython3",
   "version": "3.9.5"
  }
 },
 "nbformat": 4,
 "nbformat_minor": 4
}
